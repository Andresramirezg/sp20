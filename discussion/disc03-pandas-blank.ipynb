{
 "cells": [
  {
   "cell_type": "markdown",
   "metadata": {},
   "source": [
    "## Discussion 3:  Pandas\n",
    "\n",
    "In this discussion, we will cover some common operations that you will use in Pandas, including `groupby`, aggregates, `filter`, and `apply`. \n",
    "\n",
    "For a more detailed version of the questions in this section, please see the [discussion worksheet](http://www.ds100.org/sp20/resources/assets/discussions/disc03.pdf).\n",
    "\n",
    "The two cells bellow will download the relevant data and load it into two dataframes locally called `elections` and `babynames`."
   ]
  },
  {
   "cell_type": "code",
   "execution_count": null,
   "metadata": {},
   "outputs": [],
   "source": [
    "import pandas as pd\n",
    "import requests\n",
    "import zipfile\n",
    "from pathlib import Path\n",
    "\n",
    "import urllib.request\n",
    "import os.path\n",
    "import zipfile\n",
    "\n",
    "data_url = \"https://www.ssa.gov/oact/babynames/state/namesbystate.zip\"\n",
    "local_filename = \"babynamesbystate.zip\"\n",
    "if not os.path.exists(local_filename): # if the data exists don't download again\n",
    "    with urllib.request.urlopen(data_url) as resp, open(local_filename, 'wb') as f:\n",
    "        f.write(resp.read())\n",
    "\n",
    "zf = zipfile.ZipFile(local_filename, 'r')\n",
    "\n",
    "ca_name = 'CA.TXT'\n",
    "field_names = ['State', 'Sex', 'Year', 'Name', 'Count']\n",
    "with zf.open(ca_name) as fh:\n",
    "    babynames = pd.read_csv(fh, header=None, names=field_names)\n",
    "\n",
    "babynames.head(5)"
   ]
  },
  {
   "cell_type": "code",
   "execution_count": null,
   "metadata": {},
   "outputs": [],
   "source": [
    "elections = pd.read_csv(\"elections.csv\")\n",
    "elections.head(5)"
   ]
  },
  {
   "cell_type": "markdown",
   "metadata": {},
   "source": [
    "### Elections Data\n",
    "\n",
    "In this first sequence of questions, we'll analyze the elections data. These first three exercises correspond to questions 4a-4c on the discussion worksheet."
   ]
  },
  {
   "cell_type": "markdown",
   "metadata": {},
   "source": [
    "#### Question 4a\n",
    "\n",
    "Using `groupby.agg` or one of the shorthand methods (`groupby.min`, `groupby.first`, etc.), create a `Series` best result that gives the highest percentage vote ever attained by each party. For example, best `result[‘Libertarian’]` should return 3.3. The order of your `Series` does not matter."
   ]
  },
  {
   "cell_type": "code",
   "execution_count": null,
   "metadata": {},
   "outputs": [],
   "source": [
    "best_result_by_party = elections\n",
    "... # FILL ME IN\n",
    "best_result_by_party"
   ]
  },
  {
   "cell_type": "markdown",
   "metadata": {},
   "source": [
    "#### Question 4b\n",
    "\n",
    "Again using `groupby.agg` or one of the its shorthand methods, create a `DataFrame` that gives the result for a party in its most recent year of participation, with Party as its index. For example `last_result.query(\"Party == ‘Whig’\")` should give you a row showing that the Whigs last participated in an election in 1852 with Winfield Scott as their candidate, earning 44% of the vote. This might take more than one line of code. Write your answer below."
   ]
  },
  {
   "cell_type": "code",
   "execution_count": null,
   "metadata": {},
   "outputs": [],
   "source": [
    "last_year_by_party = elections\n",
    "... # FILL ME IN\n",
    "last_year_by_party"
   ]
  },
  {
   "cell_type": "markdown",
   "metadata": {},
   "source": [
    "#### Question 4c\n",
    "\n",
    "Using filter, create a `DataFrame` of major party results since 1988 that includes all election results starting in 1988, but only includes each row if the Party it belongs to has earned at least 1% of the popular vote in ***any*** election since 1988. For example, in 1988, you should not include the \"New Alliance\" candidate since this party has not earned 1% of the vote since 1988. However, you should include the \"Libertarian\" candidate from 1988 who only earned 0.47% of the vote in 1988 because in 2016 the Libertarian candidate Gary Johnson had 3.3% of the vote."
   ]
  },
  {
   "cell_type": "code",
   "execution_count": null,
   "metadata": {},
   "outputs": [],
   "source": [
    "major_party_results_since_1988 = elections\n",
    "... # FILL ME IN\n",
    "major_party_results_since_1988"
   ]
  },
  {
   "cell_type": "markdown",
   "metadata": {},
   "source": [
    "### Baby Names Data\n",
    "\n",
    "Now we'll turn our attention to the baby names dataset (the `babynames` `DataFrame` we loaded above). This section corresponds to exercises 4d-4e on the discusson worksheet."
   ]
  },
  {
   "cell_type": "markdown",
   "metadata": {},
   "source": [
    "#### Question 4d\n",
    "\n",
    "Create a `Series` named `female_names_since_2000_count` which gives the total number of occurrences of each name for female babies born in California from the year 2000 or later. The index should be the name, and the value should be the total number of births. Your series should be ordered in decreasing order of count. For example, your first row should have the index “Emily” and the value 49605, because 49,605 Emilys have been born since the year 2000 in California."
   ]
  },
  {
   "cell_type": "code",
   "execution_count": null,
   "metadata": {},
   "outputs": [],
   "source": [
    "female_names_since_2000_count = babynames\n",
    "... # FILL ME IN\n",
    "female_names_since_2000_count"
   ]
  },
  {
   "cell_type": "markdown",
   "metadata": {},
   "source": [
    "#### Question 4e\n",
    "\n",
    "Using `groupby`, create a `Series` called `count_for_names_2018` listing all baby names from 2018 in decreasing order of popularity. The result should not be broken down by gender! If a name is used by both male and female babies, the number you provide should be the total across both genders. For example, `count_for_names_2018[\"Noah\"]`\n",
    "should be the number 2567 because in 2018 there were 2567 Noahs born (12 female and 2555 male)."
   ]
  },
  {
   "cell_type": "code",
   "execution_count": null,
   "metadata": {},
   "outputs": [],
   "source": [
    "count_for_names_2018 = babynames\n",
    "... # FILL ME IN\n",
    "count_for_names_2018"
   ]
  },
  {
   "cell_type": "code",
   "execution_count": null,
   "metadata": {},
   "outputs": [],
   "source": []
  }
 ],
 "metadata": {
  "kernelspec": {
   "display_name": "Python 3",
   "language": "python",
   "name": "python3"
  },
  "language_info": {
   "codemirror_mode": {
    "name": "ipython",
    "version": 3
   },
   "file_extension": ".py",
   "mimetype": "text/x-python",
   "name": "python",
   "nbconvert_exporter": "python",
   "pygments_lexer": "ipython3",
   "version": "3.6.4"
  }
 },
 "nbformat": 4,
 "nbformat_minor": 2
}
