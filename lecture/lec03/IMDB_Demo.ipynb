{
 "cells": [
  {
   "cell_type": "markdown",
   "metadata": {},
   "source": [
    "# Introduction SQL "
   ]
  },
  {
   "cell_type": "markdown",
   "metadata": {},
   "source": [
    "In this notebook we walk through basic SQL queries and review how to interact with SQL from Python.  \n"
   ]
  },
  {
   "cell_type": "markdown",
   "metadata": {},
   "source": [
    "## Connecting to the Database\n",
    "\n",
    "There actually many ways to connect to databases systems from Python.  For the labs, homeworks, and projects we will use the simple SQLite database system.  In this notebook we will also demonstrate how to use `sqlalchemy`."
   ]
  },
  {
   "cell_type": "markdown",
   "metadata": {},
   "source": [
    "## SQLite\n",
    "\n",
    "[SQLite](https://www.sqlite.org/index.html) is a simple database engine implemented as C library that operates on self-contained database files and has been incorporated in to many different programming languages and systems.  SQLite also has a simple command line interface. "
   ]
  },
  {
   "cell_type": "markdown",
   "metadata": {},
   "source": [
    "# Download the Database\n",
    "\n",
    "The following block of code will download the database if it is not already present.  This may take a few minutes."
   ]
  },
  {
   "cell_type": "code",
   "execution_count": null,
   "metadata": {},
   "outputs": [],
   "source": [
    "from ds100_utils import download_file_from_google_drive\n",
    "from pathlib import Path\n",
    "import zipfile\n",
    "\n",
    "if not Path(\"im.db\").exists():\n",
    "    download_file_from_google_drive(\"1owm2jBnVwCXAXVRsbzLSj8j9Ct8PkeVF\", \"im.db.zip\")\n",
    "    with zipfile.ZipFile(\"im.db.zip\", 'r') as zip_ref:\n",
    "        zip_ref.extractall()"
   ]
  },
  {
   "cell_type": "markdown",
   "metadata": {},
   "source": [
    "### Using the Command Line SQLite Client\n",
    "\n",
    "To connect to a database from the command line you open a database file using the `sqlite3` client\n",
    "\n",
    "```bash\n",
    "> sqlite3 im.db \n",
    "```\n",
    "\n",
    "Then once you connect to the client you might want to improve output formatting by running:\n",
    "\n",
    "```\n",
    ".mode column\n",
    ".headers on\n",
    "```\n",
    "\n",
    "Note these above commands will not work for other database systems."
   ]
  },
  {
   "cell_type": "markdown",
   "metadata": {},
   "source": [
    "Try running a few commands:\n",
    "\n",
    "* List tables\n",
    "\n",
    "```\n",
    ".tables\n",
    "```\n",
    "\n",
    "* Try running a few basic queries."
   ]
  },
  {
   "cell_type": "markdown",
   "metadata": {},
   "source": [
    "## Connecting to Databases from Python\n"
   ]
  },
  {
   "cell_type": "code",
   "execution_count": null,
   "metadata": {},
   "outputs": [],
   "source": [
    "import sqlite3"
   ]
  },
  {
   "cell_type": "markdown",
   "metadata": {},
   "source": [
    "The following code connects to the database and opens a cursor to send queries."
   ]
  },
  {
   "cell_type": "code",
   "execution_count": null,
   "metadata": {},
   "outputs": [],
   "source": [
    "conn = sqlite3.connect(\"im.db\")\n",
    "cursor = conn.cursor()"
   ]
  },
  {
   "cell_type": "markdown",
   "metadata": {},
   "source": [
    "To get a list of the tables in the database we can actually query the `sqlite_master` table.  Each database will have a different mechanism to list the available tables."
   ]
  },
  {
   "cell_type": "code",
   "execution_count": null,
   "metadata": {},
   "outputs": [],
   "source": [
    "query = \"\"\"\n",
    "    SELECT name \n",
    "    FROM sqlite_master \n",
    "    WHERE type='table';\n",
    "\"\"\"\n",
    "for row in cursor.execute(query):\n",
    "    print(row)"
   ]
  },
  {
   "cell_type": "markdown",
   "metadata": {},
   "source": [
    "Notice that each time we execute a query we get a new cursor."
   ]
  },
  {
   "cell_type": "code",
   "execution_count": null,
   "metadata": {},
   "outputs": [],
   "source": [
    "res = cursor.execute(\"\"\"\n",
    "    SELECT * FROM students LIMIT 10;\n",
    "\"\"\")\n",
    "res"
   ]
  },
  {
   "cell_type": "markdown",
   "metadata": {},
   "source": [
    "The `sqlite` cursor operates like a an iterator."
   ]
  },
  {
   "cell_type": "code",
   "execution_count": null,
   "metadata": {},
   "outputs": [],
   "source": [
    "next(res)"
   ]
  },
  {
   "cell_type": "code",
   "execution_count": null,
   "metadata": {},
   "outputs": [],
   "source": [
    "[r for r in res]"
   ]
  },
  {
   "cell_type": "markdown",
   "metadata": {},
   "source": [
    "The `sqlite` cursor has a description field which lists the columns"
   ]
  },
  {
   "cell_type": "code",
   "execution_count": null,
   "metadata": {},
   "outputs": [],
   "source": [
    "res.description"
   ]
  },
  {
   "cell_type": "markdown",
   "metadata": {},
   "source": [
    "## SQL Alchemy\n",
    "\n",
    "We can also use the [sqlalchemy library](http://docs.sqlalchemy.org/en/latest/core/tutorial.html) as an abstraction layer on top of the underlying database system. This is how you will likely connect to databases in many real-world applications."
   ]
  },
  {
   "cell_type": "code",
   "execution_count": null,
   "metadata": {},
   "outputs": [],
   "source": [
    "import sqlalchemy"
   ]
  },
  {
   "cell_type": "markdown",
   "metadata": {},
   "source": [
    "Here we use sqlalchemy to connect to SQLite but in lecture professor Gonzalez connected to a separate postgres server."
   ]
  },
  {
   "cell_type": "code",
   "execution_count": null,
   "metadata": {},
   "outputs": [],
   "source": [
    "# # the following line connects to Professor Gonzalez's postgres server.  \n",
    "# engine = sqlalchemy.create_engine(\"postgres://jegonzal:@localhost:5432/data100\")\n",
    "\n",
    "engine = sqlalchemy.create_engine(\"sqlite:///im.db\")\n",
    "conn = engine.connect()"
   ]
  },
  {
   "cell_type": "markdown",
   "metadata": {},
   "source": [
    "Just as before `sqlalchemy` returns a cursor for each query."
   ]
  },
  {
   "cell_type": "code",
   "execution_count": null,
   "metadata": {},
   "outputs": [],
   "source": [
    "res = conn.execute(\"\"\"\n",
    "    SELECT * FROM students LIMIT 10;\n",
    "\"\"\")\n",
    "res"
   ]
  },
  {
   "cell_type": "code",
   "execution_count": null,
   "metadata": {},
   "outputs": [],
   "source": [
    "res.keys()"
   ]
  },
  {
   "cell_type": "code",
   "execution_count": null,
   "metadata": {},
   "outputs": [],
   "source": [
    "[r for r in res]"
   ]
  },
  {
   "cell_type": "markdown",
   "metadata": {},
   "source": [
    "## Reading Directly into a DataFrame\n",
    "\n",
    "We haven't yet started to work with the Pandas DataFrame (next lecture) but we will use DataFrames in this lecture to make it easier to see the table output.  In the following line of code we use the `read_sql` command to construct a DataFrame containing the results from the SQL query. \n",
    "\n",
    "The following function prints the SQL query and returns the DataFrame.  Notice that Jupyter is able to render the DataFrame in a easy to read format.  Also notice that the following code would accidentally pull a lot more data than might fit in memory."
   ]
  },
  {
   "cell_type": "code",
   "execution_count": null,
   "metadata": {},
   "outputs": [],
   "source": [
    "# Normally this will be at the top of the notebook \n",
    "# but we import it here to talk about it. \n",
    "# Pandas is always imported as pd (it's just standard style)\n",
    "import pandas as pd"
   ]
  },
  {
   "cell_type": "code",
   "execution_count": null,
   "metadata": {},
   "outputs": [],
   "source": [
    "def pretty_print_query(query, stop_early=100):\n",
    "    print(query, \"\\n;\")\n",
    "    return pd.read_sql(query, conn)"
   ]
  },
  {
   "cell_type": "code",
   "execution_count": null,
   "metadata": {},
   "outputs": [],
   "source": [
    "pretty_print_query(\"\"\"\n",
    "    SELECT * FROM names LIMIT 1000;\n",
    "\"\"\")"
   ]
  },
  {
   "cell_type": "markdown",
   "metadata": {},
   "source": [
    "Notice that the above command did load all 1000 rows but that the output was at least surpressed."
   ]
  },
  {
   "cell_type": "markdown",
   "metadata": {},
   "source": [
    "## Listing Tables with `sqlalchemy`"
   ]
  },
  {
   "cell_type": "markdown",
   "metadata": {},
   "source": [
    "Each database has a different way to get information about the database.  The `sqlalchemy` library provides a common abstraction using the `table_names()` function:"
   ]
  },
  {
   "cell_type": "code",
   "execution_count": null,
   "metadata": {},
   "outputs": [],
   "source": [
    "engine.table_names()"
   ]
  },
  {
   "cell_type": "markdown",
   "metadata": {},
   "source": [
    "# Taking a Random Sample \n",
    "\n",
    "In lecture we talked about a method to take a random sample.  Here we apply that method to learn about the tables."
   ]
  },
  {
   "cell_type": "code",
   "execution_count": null,
   "metadata": {},
   "outputs": [],
   "source": [
    "pretty_print_query(\"\"\"\n",
    "    SELECT * FROM names \n",
    "    ORDER BY RANDOM() \n",
    "    LIMIT 5\n",
    "\"\"\")"
   ]
  },
  {
   "cell_type": "markdown",
   "metadata": {},
   "source": [
    "The **names** table contains the *primary key* `nconst` and the `name`, `birth_year`, and `death_year` of the actors.  Note there are some missing values.  Try running the query multiple times."
   ]
  },
  {
   "cell_type": "code",
   "execution_count": null,
   "metadata": {},
   "outputs": [],
   "source": [
    "pretty_print_query(\"\"\"\n",
    "    SELECT * FROM profession \n",
    "    ORDER BY RANDOM() \n",
    "    LIMIT 5\n",
    "\"\"\")"
   ]
  },
  {
   "cell_type": "markdown",
   "metadata": {},
   "source": [
    "The **profession** table contains the described profession and what appears to be a foreign key `nconst` that appears to reference the **names** table."
   ]
  },
  {
   "cell_type": "code",
   "execution_count": null,
   "metadata": {},
   "outputs": [],
   "source": [
    "pretty_print_query(\"\"\"\n",
    "    SELECT * FROM titles \n",
    "    ORDER BY RANDOM() \n",
    "    LIMIT 5\n",
    "\"\"\")"
   ]
  },
  {
   "cell_type": "markdown",
   "metadata": {},
   "source": [
    "The **titles** table contains information about each film and appears to have the primary key `tconst`. "
   ]
  },
  {
   "cell_type": "code",
   "execution_count": null,
   "metadata": {},
   "outputs": [],
   "source": [
    "pretty_print_query(\"\"\"\n",
    "    SELECT * FROM name_to_title \n",
    "    ORDER BY RANDOM() \n",
    "    LIMIT 5\n",
    "\"\"\")"
   ]
  },
  {
   "cell_type": "markdown",
   "metadata": {},
   "source": [
    "The **name_to_title** table (which probably should have been called staring in) contains which titles in which each actor starred.  Notice that their are two *foreign key* reference in this table. "
   ]
  },
  {
   "cell_type": "markdown",
   "metadata": {},
   "source": [
    "<br/><br/><br/>\n",
    "\n",
    "# Q1: What is the average Age of Actors and Actresses in Films?\n",
    "\n"
   ]
  },
  {
   "cell_type": "markdown",
   "metadata": {},
   "source": [
    "What tables do I need?"
   ]
  },
  {
   "cell_type": "code",
   "execution_count": null,
   "metadata": {},
   "outputs": [],
   "source": [
    "pretty_print_query(\"\"\"\n",
    "    SELECT * FROM names LIMIT 2\n",
    "\"\"\")"
   ]
  },
  {
   "cell_type": "code",
   "execution_count": null,
   "metadata": {},
   "outputs": [],
   "source": [
    "pretty_print_query(\"\"\"\n",
    "    SELECT * FROM profession LIMIT 3\n",
    "\"\"\")"
   ]
  },
  {
   "cell_type": "markdown",
   "metadata": {},
   "source": [
    "To differentiate between actors and actresses we will need to join the profession with the actors"
   ]
  },
  {
   "cell_type": "code",
   "execution_count": null,
   "metadata": {},
   "outputs": [],
   "source": [
    "pretty_print_query(\"\"\"\n",
    "    SELECT \n",
    "        names.nconst, \n",
    "        name, \n",
    "        birth_year, \n",
    "        profession \n",
    "    FROM names, profession \n",
    "    WHERE \n",
    "        names.nconst = profession.nconst\n",
    "    -- ORDER BY RANDOM() -- commented this out\n",
    "    LIMIT 5\n",
    "\"\"\")"
   ]
  },
  {
   "cell_type": "markdown",
   "metadata": {},
   "source": [
    "Restrict to actors and actresses"
   ]
  },
  {
   "cell_type": "code",
   "execution_count": null,
   "metadata": {},
   "outputs": [],
   "source": [
    "pretty_print_query(\"\"\"\n",
    "    SELECT names.nconst, name, birth_year, profession \n",
    "    FROM names, profession \n",
    "    WHERE \n",
    "        names.nconst = profession.nconst AND\n",
    "        (profession = 'actor' OR profession = 'actress')\n",
    "    LIMIT 5\n",
    "\"\"\")"
   ]
  },
  {
   "cell_type": "markdown",
   "metadata": {},
   "source": [
    "Does anyone star as both an actor and an actress?"
   ]
  },
  {
   "cell_type": "code",
   "execution_count": null,
   "metadata": {},
   "outputs": [],
   "source": [
    "pretty_print_query(\"\"\"\n",
    "    SELECT names.nconst, name, COUNT(*) AS cnt\n",
    "    FROM names, profession \n",
    "    WHERE \n",
    "        names.nconst = profession.nconst AND\n",
    "        (profession = 'actor' OR profession = 'actress')\n",
    "    \n",
    "    GROUP BY names.nconst, name \n",
    "    HAVING COUNT(*) > 1\n",
    "    \n",
    "    ORDER BY name\n",
    "\"\"\")"
   ]
  },
  {
   "cell_type": "markdown",
   "metadata": {},
   "source": [
    "That is a lot!  Could be multiple roles or it could be issues in the data.  We should probably investigate but not today."
   ]
  },
  {
   "cell_type": "markdown",
   "metadata": {},
   "source": [
    "## Common Table Expressions"
   ]
  },
  {
   "cell_type": "markdown",
   "metadata": {},
   "source": [
    "The next step in our query about the age of actors in different films requires combining the actor information with the date of their films.  However, we will also want to keep track of the role (actor/actress) information.\n",
    "\n",
    "To do this we will use a **Common Table Expression**"
   ]
  },
  {
   "cell_type": "code",
   "execution_count": null,
   "metadata": {},
   "outputs": [],
   "source": [
    "pretty_print_query(\"\"\"\n",
    "WITH actors_with_profession AS (\n",
    "    SELECT names.nconst, name, birth_year, profession \n",
    "    FROM names, profession \n",
    "    WHERE \n",
    "        names.nconst = profession.nconst AND\n",
    "        (profession = 'actor' OR profession = 'actress')\n",
    "    )\n",
    "SELECT \n",
    "    a.name, \n",
    "    t.start_year - a.birth_year AS age, \n",
    "    t.start_year as year, \n",
    "    profession\n",
    "FROM \n",
    "    actors_with_profession a, \n",
    "    name_to_title nt, \n",
    "    titles t\n",
    "WHERE \n",
    "    a.nconst = nt.nconst AND nt.tconst = t.tconst\n",
    "LIMIT 10\n",
    "\"\"\")"
   ]
  },
  {
   "cell_type": "markdown",
   "metadata": {},
   "source": [
    "We are programming in Python so we can actually use code to help organize the query:"
   ]
  },
  {
   "cell_type": "code",
   "execution_count": null,
   "metadata": {},
   "outputs": [],
   "source": [
    "actors_with_profession = \"\"\"\n",
    "    SELECT names.nconst, name, birth_year, profession \n",
    "    FROM names, profession \n",
    "    WHERE \n",
    "        names.nconst = profession.nconst AND\n",
    "        (profession = 'actor' OR profession = 'actress')\n",
    "\"\"\""
   ]
  },
  {
   "cell_type": "markdown",
   "metadata": {},
   "source": [
    "This is done using python f-strings (format strings)."
   ]
  },
  {
   "cell_type": "code",
   "execution_count": null,
   "metadata": {},
   "outputs": [],
   "source": [
    "pretty_print_query(f\"\"\"\n",
    "WITH actors_with_profession AS ({actors_with_profession})\n",
    "SELECT \n",
    "    a.name, \n",
    "    t.start_year - a.birth_year AS age, \n",
    "    t.start_year as year, \n",
    "    profession\n",
    "FROM \n",
    "    actors_with_profession a, \n",
    "    name_to_title nt, \n",
    "    titles t\n",
    "WHERE \n",
    "    a.nconst = nt.nconst AND nt.tconst = t.tconst\n",
    "LIMIT 10\n",
    "\"\"\")"
   ]
  },
  {
   "cell_type": "markdown",
   "metadata": {},
   "source": [
    "## Checking the Actor Age Calculation\n",
    "\n",
    "I have added the birth year of the actor and the title of the film and ordered by age."
   ]
  },
  {
   "cell_type": "code",
   "execution_count": null,
   "metadata": {},
   "outputs": [],
   "source": [
    "pretty_print_query(f\"\"\"\n",
    "WITH actors_with_profession AS ({actors_with_profession})\n",
    "SELECT \n",
    "    a.name, \n",
    "    t.start_year - a.birth_year AS age,\n",
    "    birth_year AS born,\n",
    "    t.start_year as year, \n",
    "    title,\n",
    "    profession\n",
    "FROM \n",
    "    actors_with_profession a, \n",
    "    name_to_title nt, \n",
    "    titles t\n",
    "WHERE \n",
    "    a.nconst = nt.nconst AND nt.tconst = t.tconst\n",
    "ORDER BY age\n",
    "LIMIT 10;\n",
    "\"\"\")"
   ]
  },
  {
   "cell_type": "markdown",
   "metadata": {},
   "source": [
    "More issues!  For now let's focus on more recent films and constrain the age to be a positive value.  This will be throwing away data that might be significant.  In a real analysis we would want to examine the data we are removing to understand biases we may be introducing."
   ]
  },
  {
   "cell_type": "code",
   "execution_count": null,
   "metadata": {},
   "outputs": [],
   "source": [
    "pretty_print_query(f\"\"\"\n",
    "WITH actors_with_profession AS ({actors_with_profession})\n",
    "SELECT \n",
    "    a.name, \n",
    "    t.start_year - a.birth_year AS age, \n",
    "    t.start_year as year, \n",
    "    profession\n",
    "FROM \n",
    "    actors_with_profession a, \n",
    "    name_to_title nt, \n",
    "    titles t\n",
    "WHERE \n",
    "    a.nconst = nt.nconst AND nt.tconst = t.tconst \n",
    "        AND t.start_year - a.birth_year > 0\n",
    "        AND t.start_year > 1940\n",
    "        AND t.start_year < 2020\n",
    "ORDER BY RANDOM()\n",
    "LIMIT 20\n",
    "\"\"\")"
   ]
  },
  {
   "cell_type": "markdown",
   "metadata": {},
   "source": [
    "## Let's examine aggregate summaries for each year\n",
    "\n",
    "Notice I am saving the resulting dataframe for future visualization.  We will learn more about this in future lectures."
   ]
  },
  {
   "cell_type": "code",
   "execution_count": null,
   "metadata": {},
   "outputs": [],
   "source": [
    "df = pretty_print_query(f\"\"\"\n",
    "WITH actors_with_profession AS ({actors_with_profession})\n",
    "SELECT \n",
    "    t.start_year AS year, \n",
    "    profession, \n",
    "    AVG(t.start_year - a.birth_year) AS avg_age,  \n",
    "    COUNT(*) AS cnt\n",
    "FROM \n",
    "    actors_with_profession a, \n",
    "    name_to_title nt, \n",
    "    titles t\n",
    "WHERE a.nconst = nt.nconst AND nt.tconst = t.tconst \n",
    "    AND t.start_year - a.birth_year > 0\n",
    "    AND t.start_year > 1940\n",
    "    AND t.start_year < 2020\n",
    "GROUP BY year, profession\n",
    "ORDER BY year, profession\n",
    "\"\"\")\n",
    "df"
   ]
  },
  {
   "cell_type": "markdown",
   "metadata": {},
   "source": [
    "## Visualizing the Resulting Table\n",
    "\n",
    "In future lectures we will cover how to visualize data.  Here I am using `plotly`, `cufflinks` and `pandas` to build an interactive web visualization (in one line!)."
   ]
  },
  {
   "cell_type": "code",
   "execution_count": null,
   "metadata": {},
   "outputs": [],
   "source": [
    "import plotly.offline as py\n",
    "import plotly.express as px\n",
    "import cufflinks as cf\n",
    "cf.set_config_file(sharing=\"private\", offline=True, offline_connected=False)"
   ]
  },
  {
   "cell_type": "code",
   "execution_count": null,
   "metadata": {},
   "outputs": [],
   "source": [
    "df.iplot(kind=\"line\", x=\"year\", y=\"cnt\", yTitle=\"Count\",\n",
    "         categories=\"profession\", \n",
    "         colors={\"actor\": \"blue\", \"actress\": \"red\"}, \n",
    "         mode=\"lines+markers\")\n",
    "df.iplot(kind=\"line\", x=\"year\", y=\"avg_age\", yTitle=\"Average Age\",\n",
    "         categories=\"profession\", \n",
    "         colors={\"actor\": \"blue\", \"actress\": \"red\"}, \n",
    "         mode=\"lines+markers\")"
   ]
  },
  {
   "cell_type": "markdown",
   "metadata": {},
   "source": [
    "## Digging into 1970"
   ]
  },
  {
   "cell_type": "markdown",
   "metadata": {},
   "source": [
    "We look at just the data ` WHERE (t.start_year = 1970 OR t.start_year = 1971)`"
   ]
  },
  {
   "cell_type": "code",
   "execution_count": null,
   "metadata": {},
   "outputs": [],
   "source": [
    "df70s = pretty_print_query(f\"\"\"\n",
    "WITH actors_with_profession AS ({actors_with_profession})\n",
    "SELECT \n",
    "    t.start_year - a.birth_year AS age, \n",
    "    t.start_year AS year, \n",
    "    COUNT(*) AS cnt\n",
    "FROM \n",
    "    actors_with_profession a, \n",
    "    name_to_title nt, \n",
    "    titles  t\n",
    "WHERE a.nconst = nt.nconst AND nt.tconst = t.tconst \n",
    "    AND t.start_year - a.birth_year > 0\n",
    "    AND (t.start_year = 1970 OR t.start_year = 1971)\n",
    "GROUP BY age, t.start_year\n",
    "\"\"\")\n",
    "df70s"
   ]
  },
  {
   "cell_type": "markdown",
   "metadata": {},
   "source": [
    "Visualizing the distribution of actors at each age we see a large number of young actors in 1970 that are not present in 1971."
   ]
  },
  {
   "cell_type": "code",
   "execution_count": null,
   "metadata": {},
   "outputs": [],
   "source": [
    "px.bar(df70s.astype({\"year\":\"str\"}), x=\"age\", y=\"cnt\", color=\"year\", barmode=\"overlay\")"
   ]
  },
  {
   "cell_type": "markdown",
   "metadata": {},
   "source": [
    "Looking at which titles have many young actors in 1970"
   ]
  },
  {
   "cell_type": "code",
   "execution_count": null,
   "metadata": {},
   "outputs": [],
   "source": [
    "df70s_1 = pretty_print_query(f\"\"\"\n",
    "WITH actors_with_profession AS ({actors_with_profession})\n",
    "SELECT birth_year, name, profession, title, title_type,\n",
    "    (t.start_year - a.birth_year) AS age\n",
    "FROM \n",
    "    actors_with_profession a, name_to_title nt, titles t\n",
    "WHERE \n",
    "    a.nconst = nt.nconst AND nt.tconst = t.tconst \n",
    "    AND t.start_year - a.birth_year > 0\n",
    "    AND t.start_year = 1970\n",
    "    AND (t.start_year - a.birth_year) < 10\n",
    "\"\"\")\n",
    "df70s_1"
   ]
  },
  {
   "cell_type": "markdown",
   "metadata": {},
   "source": [
    "In the following line I am cheating by grouping by title as well using the Pandas DataFrame API (`value_counts`)."
   ]
  },
  {
   "cell_type": "code",
   "execution_count": null,
   "metadata": {},
   "outputs": [],
   "source": [
    "df70s_1['title'].value_counts().iplot(kind='barh')"
   ]
  },
  {
   "cell_type": "markdown",
   "metadata": {},
   "source": [
    "We would normally want to investigate the TV show Tatort a bit more but not today.  Instead we will restrict our attentions to titles that are actually movies."
   ]
  },
  {
   "cell_type": "markdown",
   "metadata": {},
   "source": [
    "# Focusing on Movies Only"
   ]
  },
  {
   "cell_type": "code",
   "execution_count": null,
   "metadata": {},
   "outputs": [],
   "source": [
    "df = pretty_print_query(f\"\"\"\n",
    "WITH actors_with_profession AS ({actors_with_profession})\n",
    "SELECT t.start_year as year, profession, \n",
    "    AVG(t.start_year - a.birth_year) AS avg_age,  \n",
    "    COUNT(*) AS cnt\n",
    "FROM \n",
    "    actors_with_profession a, \n",
    "    name_to_title nt, \n",
    "    titles t\n",
    "WHERE a.nconst = nt.nconst AND nt.tconst = t.tconst \n",
    "    AND t.start_year - a.birth_year > 0\n",
    "    AND t.start_year > 1940\n",
    "    AND t.start_year < 2020\n",
    "    AND t.title_type = 'movie'\n",
    "GROUP BY year, profession\n",
    "ORDER BY year, profession\n",
    "\"\"\")\n",
    "df"
   ]
  },
  {
   "cell_type": "code",
   "execution_count": null,
   "metadata": {},
   "outputs": [],
   "source": [
    "df.iplot(kind=\"line\", x=\"year\", y=\"cnt\", categories=\"profession\", colors={\"actor\": \"blue\", \"actress\": \"red\"}, mode=\"lines+markers\")\n",
    "df.iplot(kind=\"line\", x=\"year\", y=\"avg_age\", categories=\"profession\", colors={\"actor\": \"blue\", \"actress\": \"red\"}, mode=\"lines+markers\")"
   ]
  },
  {
   "cell_type": "markdown",
   "metadata": {},
   "source": [
    "Do you see any interesting trends?"
   ]
  }
 ],
 "metadata": {
  "kernelspec": {
   "display_name": "Python 3",
   "language": "python",
   "name": "python3"
  },
  "language_info": {
   "codemirror_mode": {
    "name": "ipython",
    "version": 3
   },
   "file_extension": ".py",
   "mimetype": "text/x-python",
   "name": "python",
   "nbconvert_exporter": "python",
   "pygments_lexer": "ipython3",
   "version": "3.7.5"
  }
 },
 "nbformat": 4,
 "nbformat_minor": 4
}
