{
 "cells": [
  {
   "cell_type": "code",
   "execution_count": null,
   "metadata": {
    "deletable": false,
    "editable": false
   },
   "outputs": [],
   "source": [
    "# Initialize OK\n",
    "from client.api.notebook import Notebook\n",
    "ok = Notebook('hw3.ok')"
   ]
  },
  {
   "cell_type": "markdown",
   "metadata": {},
   "source": [
    "# Homework 3: SQL\n",
    "\n",
    "## Due Date: Monday, Feb 10th, 11:59PM\n",
    "\n",
    "## Collaboration Policy\n",
    "\n",
    "Data science is a collaborative activity. While you may talk with others about\n",
    "the homework, we ask that you **write your solutions individually**. If you do\n",
    "discuss the assignments with others please **include their names** below."
   ]
  },
  {
   "cell_type": "markdown",
   "metadata": {},
   "source": [
    "**Collaborators**: *list  collaborators here*"
   ]
  },
  {
   "cell_type": "markdown",
   "metadata": {},
   "source": [
    "## Grading\n",
    "\n",
    "Grading is broken down into autograded answers and free response. \n",
    "\n",
    "For autograded answers, the results of your code are compared to provided and/or hidden tests. **For autograded probability questions, the provided tests will only check that your answer is within a reasonable range.**"
   ]
  },
  {
   "cell_type": "markdown",
   "metadata": {},
   "source": [
    "### Please make sure to save regularly; do not rely on autosave to save your work for you!\n",
    "\n",
    "**Caution:** Be careful with large SQL queries.  You may need to reboot your Jupyter Hub instance if it stops responding."
   ]
  },
  {
   "cell_type": "markdown",
   "metadata": {},
   "source": [
    "## Scoring Breakdown\n",
    "\n",
    "|Question|Points|\n",
    "|---|---|\n",
    "|Q1 | 2 |\n",
    "|Q2 | 2 |\n",
    "|Q3 | 1 |\n",
    "|Q4 | 2 |\n",
    "|Q5 | 3 |\n",
    "|Q6 | 3 |\n",
    "|Q7 | 2 |\n",
    "|Q8 | 4 |\n",
    "|Q9 | 4 |\n"
   ]
  },
  {
   "cell_type": "markdown",
   "metadata": {},
   "source": [
    "## Introduction\n",
    "\n",
    "In this homework, you will have a chance to test your SQL knowledge by writing some SQL queries. We're going to be exploring the publicly available [IMDB](https://www.imdb.com) datasets with data about films and the people involved in their creation."
   ]
  },
  {
   "cell_type": "code",
   "execution_count": 1,
   "metadata": {},
   "outputs": [],
   "source": [
    "import numpy as np\n",
    "import pandas as pd\n",
    "import sqlite3"
   ]
  },
  {
   "cell_type": "code",
   "execution_count": 2,
   "metadata": {},
   "outputs": [],
   "source": [
    "import matplotlib.pyplot as plt\n",
    "import plotly.offline as py\n",
    "import cufflinks as cf"
   ]
  },
  {
   "cell_type": "markdown",
   "metadata": {},
   "source": [
    "## Setup"
   ]
  },
  {
   "cell_type": "markdown",
   "metadata": {},
   "source": [
    "We have constructed an IMDB database snapshot from [IMDB data](https://www.imdb.com/interfaces/).  This is a very large file so we have mounted it in a shared filesystem on Jupyter Hub.  "
   ]
  },
  {
   "cell_type": "markdown",
   "metadata": {},
   "source": [
    "We will use `run_sql` function in `ds100_utils`.  This allows us to update the database query code should we run into performance issues on the jupyter hub."
   ]
  },
  {
   "cell_type": "code",
   "execution_count": 3,
   "metadata": {},
   "outputs": [],
   "source": [
    "from ds100_utils import run_sql\n",
    "help(run_sql)"
   ]
  },
  {
   "cell_type": "markdown",
   "metadata": {},
   "source": [
    "## Getting to Know Your Data"
   ]
  },
  {
   "cell_type": "markdown",
   "metadata": {},
   "source": [
    "Now that we have downloaded our SQLite database, we want to make sure we understand the **schema** of our data before we start writing queries. The following query returns the tables stored in the database."
   ]
  },
  {
   "cell_type": "code",
   "execution_count": null,
   "metadata": {},
   "outputs": [],
   "source": [
    "for _, row in run_sql(\"SELECT sql FROM sqlite_master WHERE type='table' \").iterrows():\n",
    "    print(row['sql'], '\\n')"
   ]
  },
  {
   "cell_type": "markdown",
   "metadata": {},
   "source": [
    "We have four tables.  Notice that the `names` and `titles` tables have primary keys that the `roles` and `ratings` tables reference. \n",
    "\n",
    "Documentation for the schema can be found [here](https://www.imdb.com/interfaces/). Note we have renamed `principals` to `roles`.  We have also slightly shorted or simplified several of the column names.\n",
    "\n",
    "To get a better understanding of the values we will look at 10 records from each table using the `run_sql` command.  "
   ]
  },
  {
   "cell_type": "code",
   "execution_count": null,
   "metadata": {},
   "outputs": [],
   "source": [
    "run_sql(\"\"\"\n",
    "    SELECT * FROM names LIMIT 10\n",
    "\"\"\")"
   ]
  },
  {
   "cell_type": "code",
   "execution_count": null,
   "metadata": {},
   "outputs": [],
   "source": [
    "run_sql(\"\"\"\n",
    "    SELECT * FROM titles LIMIT 10\n",
    "\"\"\")"
   ]
  },
  {
   "cell_type": "code",
   "execution_count": null,
   "metadata": {},
   "outputs": [],
   "source": [
    "run_sql(\"\"\"\n",
    "    SELECT * FROM roles LIMIT 10\n",
    "\"\"\")"
   ]
  },
  {
   "cell_type": "code",
   "execution_count": null,
   "metadata": {},
   "outputs": [],
   "source": [
    "run_sql(\"\"\"\n",
    "    SELECT * FROM ratings LIMIT 10\n",
    "\"\"\")"
   ]
  },
  {
   "cell_type": "markdown",
   "metadata": {},
   "source": [
    "### Important Schema Information\n",
    "\n",
    "* `names` contains information about individuals involved in films.\n",
    "* `titles` contains information about the films.\n",
    "* `roles` relates individuals to titles\n",
    "* `ratings` contains information about the ratings associated with each film. \n",
    "* `names.nid` is a Primary Key\n",
    "* `titles.tid` is a Primary Key\n",
    "* `roles.nid` and `roles.tid` are foreign keys that point to `names.nid` and `titles.tid`, respectively.\n",
    "\n"
   ]
  },
  {
   "cell_type": "markdown",
   "metadata": {
    "deletable": false,
    "editable": false
   },
   "source": [
    "---\n",
    "\n",
    "## Question 1\n",
    "\n",
    "How far back does our data go? Does it only include recent data, or do we have information about older movies and movie stars as well? \n",
    "\n",
    "List the **10 oldest films** by `start_year` and then `title` both in **ascending** order.  Do not include films where the `start_year` is `NULL`.  The output should contain the `start_year`, `type`, and `title`.\n",
    "\n",
    "\n",
    "<!--\n",
    "BEGIN QUESTION\n",
    "name: q1\n",
    "manual: false\n",
    "points: 2\n",
    "-->"
   ]
  },
  {
   "cell_type": "code",
   "execution_count": null,
   "metadata": {},
   "outputs": [],
   "source": [
    "oldestMovieQuery = \"\"\"...\"\"\"\n",
    "oldestMovieDf = run_sql(oldestMovieQuery)\n",
    "oldestMovieDf"
   ]
  },
  {
   "cell_type": "code",
   "execution_count": null,
   "metadata": {
    "deletable": false,
    "editable": false
   },
   "outputs": [],
   "source": [
    "ok.grade(\"q1\");"
   ]
  },
  {
   "cell_type": "markdown",
   "metadata": {
    "deletable": false,
    "editable": false
   },
   "source": [
    "---\n",
    "\n",
    "## Question 2\n",
    "\n",
    "Next, let's calculate the distribution of films by year. Write a query that returns the **total** films for each `start_year` in the `titles` table as `total`.  Keep in mind that some entries may not have a `start_year` year listed -- you should filter those out.  Order your final results by the `start_year`.\n",
    "\n",
    "The first 5 lines of the table should look like the following (but you should compute the entire table).\n",
    "<table border=\"1\" class=\"dataframe\">\n",
    "  <thead>\n",
    "    <tr style=\"text-align: right;\">\n",
    "      <th></th>\n",
    "      <th>start_year</th>\n",
    "      <th>total</th>\n",
    "    </tr>\n",
    "  </thead>\n",
    "  <tbody>\n",
    "    <tr>\n",
    "      <th>0</th>\n",
    "      <td>1894</td>\n",
    "      <td>1</td>\n",
    "    </tr>\n",
    "    <tr>\n",
    "      <th>1</th>\n",
    "      <td>1897</td>\n",
    "      <td>2</td>\n",
    "    </tr>\n",
    "    <tr>\n",
    "      <th>2</th>\n",
    "      <td>1898</td>\n",
    "      <td>26</td>\n",
    "    </tr>\n",
    "    <tr>\n",
    "      <th>3</th>\n",
    "      <td>1899</td>\n",
    "      <td>12</td>\n",
    "    </tr>\n",
    "    <tr>\n",
    "      <th>4</th>\n",
    "      <td>1900</td>\n",
    "      <td>14</td>\n",
    "    </tr>\n",
    "  </tbody>\n",
    "</table>\n",
    "\n",
    "\n",
    "<!--\n",
    "BEGIN QUESTION\n",
    "name: q2\n",
    "manual: false\n",
    "points: 2\n",
    "-->"
   ]
  },
  {
   "cell_type": "code",
   "execution_count": null,
   "metadata": {},
   "outputs": [],
   "source": [
    "yearDistQuery = \"\"\"...\"\"\"\n",
    "yearDistDf = run_sql(yearDistQuery)\n",
    "yearDistDf"
   ]
  },
  {
   "cell_type": "code",
   "execution_count": null,
   "metadata": {
    "deletable": false,
    "editable": false
   },
   "outputs": [],
   "source": [
    "ok.grade(\"q2\");"
   ]
  },
  {
   "cell_type": "markdown",
   "metadata": {},
   "source": [
    "The following should generate an interesting plot of the number of films that premiered each year. Notice there is a dip between the 1920s and late 1940s. Why might that be? *This question is rhetorical; you do not need to write your answer anywhere.*"
   ]
  },
  {
   "cell_type": "code",
   "execution_count": null,
   "metadata": {},
   "outputs": [],
   "source": [
    "yearDistDf.iplot(kind=\"bar\", x=\"start_year\", y=\"total\", \n",
    "                 xTitle=\"Start Year\", yTitle=\"Count\", asFigure=True)"
   ]
  },
  {
   "cell_type": "markdown",
   "metadata": {
    "deletable": false,
    "editable": false
   },
   "source": [
    "---\n",
    "\n",
    "## Question 3\n",
    "\n",
    "What are the different kinds of `types` included in the `titles` table? Write a query to find out all the unique `types` of films using the `DISTINCT` keyword.  (**You may not use `GROUP BY`.**)\n",
    "\n",
    "<!--\n",
    "BEGIN QUESTION\n",
    "name: q3\n",
    "manual: false\n",
    "points: 1\n",
    "-->"
   ]
  },
  {
   "cell_type": "code",
   "execution_count": null,
   "metadata": {},
   "outputs": [],
   "source": [
    "typeQuery = \"\"\"...\"\"\"\n",
    "typeDf = run_sql(typeQuery)\n",
    "typeDf"
   ]
  },
  {
   "cell_type": "code",
   "execution_count": null,
   "metadata": {
    "deletable": false,
    "editable": false
   },
   "outputs": [],
   "source": [
    "ok.grade(\"q3\");"
   ]
  },
  {
   "cell_type": "markdown",
   "metadata": {
    "deletable": false,
    "editable": false
   },
   "source": [
    "---\n",
    "\n",
    "## Question 4\n",
    "\n",
    "Before we proceed we want to get a better picture of the kinds of jobs that exist.  To do this examine the `roles` table by computing the number of records with each job `category`.  Present the results in descending order by the total counts.\n",
    "\n",
    "The top of your table should look like this:\n",
    "\n",
    "<table border=\"1\" class=\"dataframe\">\n",
    "  <thead>\n",
    "    <tr style=\"text-align: right;\">\n",
    "      <th></th>\n",
    "      <th>category</th>\n",
    "      <th>total</th>\n",
    "    </tr>\n",
    "  </thead>\n",
    "  <tbody>\n",
    "    <tr>\n",
    "      <th>0</th>\n",
    "      <td>actor</td>\n",
    "      <td>8739100</td>\n",
    "    </tr>\n",
    "    <tr>\n",
    "      <th>1</th>\n",
    "      <td>actress</td>\n",
    "      <td>6541392</td>\n",
    "    </tr>\n",
    "    <tr>\n",
    "      <th>2</th>\n",
    "      <td>self</td>\n",
    "      <td>6334197</td>\n",
    "    </tr>\n",
    "  </tbody>\n",
    "</table>\n",
    "\n",
    "However, there should be more rows.\n",
    "\n",
    "\n",
    "<!--\n",
    "BEGIN QUESTION\n",
    "name: q4\n",
    "manual: false\n",
    "points: 2\n",
    "-->"
   ]
  },
  {
   "cell_type": "code",
   "execution_count": null,
   "metadata": {},
   "outputs": [],
   "source": [
    "roleCategoriesQuery = \"\"\"...\"\"\"\n",
    "roleCategoriesDf = run_sql(roleCategoriesQuery)\n",
    "roleCategoriesDf"
   ]
  },
  {
   "cell_type": "code",
   "execution_count": null,
   "metadata": {
    "deletable": false,
    "editable": false
   },
   "outputs": [],
   "source": [
    "ok.grade(\"q4\");"
   ]
  },
  {
   "cell_type": "markdown",
   "metadata": {},
   "source": [
    "If we computed the results correctly we should see a nice horizontal bar chart of the counts per category below:"
   ]
  },
  {
   "cell_type": "code",
   "execution_count": null,
   "metadata": {},
   "outputs": [],
   "source": [
    "roleCategoriesDf.iplot(kind=\"barh\", x =\"category\", y = \"total\", xTitle=\"Count\", asFigure=True)"
   ]
  },
  {
   "cell_type": "markdown",
   "metadata": {
    "deletable": false,
    "editable": false
   },
   "source": [
    "---\n",
    "\n",
    "\n",
    "## Question 5\n",
    "\n",
    "Now that we have a better sense of the basics of our data, we can ask some more interesting questions.  In this question, we will explore which 10 **actors** or **actresses** were in the most **movies**.  Construct a table consisting of their name (as `name`) and the number of movies in which they performed as `total` and order the results by the total in descending order and break ties by ordering by `name` in ascending order.\n",
    "\n",
    "***The query should take < 2 minutes to run.***\n",
    "\n",
    "*Hint: Google the top of the list and see if it makes sense.*\n",
    "\n",
    "*Hint: If you want to include a non-aggregate field in the* `SELECT` *clause, it must also be included in the* `GROUP BY` *clause.*\n",
    "\n",
    "Your result should look something like the following but without `????`:\n",
    "<table border=\"1\" class=\"dataframe\">\n",
    "  <thead>\n",
    "    <tr style=\"text-align: right;\">\n",
    "      <th></th>\n",
    "      <th>name</th>\n",
    "      <th>total</th>\n",
    "    </tr>\n",
    "  </thead>\n",
    "  <tbody>\n",
    "    <tr>\n",
    "      <th>0</th>\n",
    "      <td>????</td>\n",
    "      <td>809</td>\n",
    "    </tr>\n",
    "    <tr>\n",
    "      <th>1</th>\n",
    "      <td>????</td>\n",
    "      <td>584</td>\n",
    "    </tr>\n",
    "    <tr>\n",
    "      <th>2</th>\n",
    "      <td>????</td>\n",
    "      <td>565</td>\n",
    "    </tr>\n",
    "    <tr>\n",
    "      <th>3</th>\n",
    "      <td>????</td>\n",
    "      <td>507</td>\n",
    "    </tr>\n",
    "    <tr>\n",
    "      <th>4</th>\n",
    "      <td>????</td>\n",
    "      <td>411</td>\n",
    "    </tr>\n",
    "    <tr>\n",
    "      <th>5</th>\n",
    "      <td>????</td>\n",
    "      <td>409</td>\n",
    "    </tr>\n",
    "    <tr>\n",
    "      <th>6</th>\n",
    "      <td>????</td>\n",
    "      <td>391</td>\n",
    "    </tr>\n",
    "    <tr>\n",
    "      <th>7</th>\n",
    "      <td>????</td>\n",
    "      <td>388</td>\n",
    "    </tr>\n",
    "    <tr>\n",
    "      <th>8</th>\n",
    "      <td>????</td>\n",
    "      <td>382</td>\n",
    "    </tr>\n",
    "    <tr>\n",
    "      <th>9</th>\n",
    "      <td>????</td>\n",
    "      <td>360</td>\n",
    "    </tr>\n",
    "  </tbody>\n",
    "</table>\n",
    "\n",
    "\n",
    "<!--\n",
    "BEGIN QUESTION\n",
    "name: q5\n",
    "manual: false\n",
    "points: 3\n",
    "-->"
   ]
  },
  {
   "cell_type": "code",
   "execution_count": null,
   "metadata": {},
   "outputs": [],
   "source": [
    "prolificPerformersQuery = \"\"\"...\"\"\"\n",
    "prolificPerformersDf = run_sql(prolificPerformersQuery)\n",
    "prolificPerformersDf"
   ]
  },
  {
   "cell_type": "code",
   "execution_count": null,
   "metadata": {
    "deletable": false,
    "editable": false
   },
   "outputs": [],
   "source": [
    "ok.grade(\"q5\");"
   ]
  },
  {
   "cell_type": "markdown",
   "metadata": {
    "deletable": false,
    "editable": false
   },
   "source": [
    "---\n",
    "\n",
    "## Question 6\n",
    "\n",
    "\n",
    "We also have average `ratings` data consisting of the `num_votes` and the `average_rating` for each title.  Let's first see how many **movies** have ratings.  Construct the following table:\n",
    "\n",
    "<table border=\"1\" class=\"dataframe\">\n",
    "  <thead>\n",
    "    <tr style=\"text-align: right;\">\n",
    "      <th></th>\n",
    "      <th>has_rating</th>\n",
    "      <th>total</th>\n",
    "    </tr>\n",
    "  </thead>\n",
    "  <tbody>\n",
    "    <tr>\n",
    "      <th>0</th>\n",
    "      <td>no</td>\n",
    "      <td>????</td>\n",
    "    </tr>\n",
    "    <tr>\n",
    "      <th>1</th>\n",
    "      <td>yes</td>\n",
    "      <td>????</td>\n",
    "    </tr>\n",
    "  </tbody>\n",
    "</table>\n",
    "\n",
    "Where `????` is replaced with the correct values. The row with `no` should have the count for many movies **do not** have ratings, and the row with `yes` should have the count of how many movies **do** have ratings.\n",
    "\n",
    "You will need to use a `LEFT JOIN`. You may also consider using a `CASE WHEN ... IS NOT NULL THEN 'yes\" ... ELSE ... END` statement. `CASE` statements are the SQL-equivalent of Python `if... elif... else` statements. Take a look at the following links for help with `CASE` statements:\n",
    "- https://mode.com/sql-tutorial/sql-case/\n",
    "- https://www.w3schools.com/sql/sql_ref_case.asp\n",
    "\n",
    "\n",
    "<!--\n",
    "BEGIN QUESTION\n",
    "name: q6\n",
    "manual: false\n",
    "points: 3\n",
    "-->"
   ]
  },
  {
   "cell_type": "code",
   "execution_count": null,
   "metadata": {},
   "outputs": [],
   "source": [
    "numberNotRatedQuery = \"\"\"...\"\"\"\n",
    "missingRatingsDf = run_sql(missingRatingsQuery)\n",
    "missingRatingsDf"
   ]
  },
  {
   "cell_type": "code",
   "execution_count": null,
   "metadata": {
    "deletable": false,
    "editable": false
   },
   "outputs": [],
   "source": [
    "ok.grade(\"q6\");"
   ]
  },
  {
   "cell_type": "markdown",
   "metadata": {
    "deletable": false,
    "editable": false
   },
   "source": [
    "---\n",
    "\n",
    "## Question 7\n",
    "\n",
    "\n",
    "We also have average `ratings` data consisting of the `num_votes` and the `average_rating` for each title.  Which films have the most ratings?  Make a table consisting of the `title`, `num_votes`, and `avg_rating` for the 10 films that have the highest number of ratings.  Sort the result in descending order by the number of votes.\n",
    "\n",
    "\n",
    "<!--\n",
    "BEGIN QUESTION\n",
    "name: q7\n",
    "manual: false\n",
    "points: 2\n",
    "-->"
   ]
  },
  {
   "cell_type": "code",
   "execution_count": null,
   "metadata": {},
   "outputs": [],
   "source": [
    "popularVotesQuery = \"\"\"...\"\"\"\n",
    "popularVotesDf = run_sql(popularVotesQuery)\n",
    "popularVotesDf"
   ]
  },
  {
   "cell_type": "code",
   "execution_count": null,
   "metadata": {
    "deletable": false,
    "editable": false
   },
   "outputs": [],
   "source": [
    "ok.grade(\"q7\");"
   ]
  },
  {
   "cell_type": "markdown",
   "metadata": {
    "deletable": false,
    "editable": false
   },
   "source": [
    "---\n",
    "\n",
    "## Question 8\n",
    "\n",
    "\n",
    "How does film length relate to ratings?  To answer this question we want to bin films by length and compute the average of the average ratings within each length bin. We will group movies by 10-minute increments -- that is, one bin for movies \\[0, 10) minutes long, another for \\[10, 20) minutes, another for \\[20, 30) minutes, and so on. Use the following code snippet to help construct 10-minute bins: \n",
    "\n",
    "```\n",
    "ROUND(runtimeMinutes / 10.0 + 0.5) * 10 AS runtime_bin\n",
    "```\n",
    "\n",
    "Construct a table containing the **runtime_bin**, the **average** of the **average ratings** (as `avg_rating`), the **average number of votes** (as `avg_num_votes`), and the number of `titles` in that **runtime_bin** (as `total`).  Only include movies with **at least 10000 votes**.  Order the final results by the value of `runtime_bin`.\n",
    "\n",
    "\n",
    "\n",
    "<!--\n",
    "BEGIN QUESTION\n",
    "name: q8\n",
    "manual: false\n",
    "points: 4\n",
    "-->"
   ]
  },
  {
   "cell_type": "code",
   "execution_count": null,
   "metadata": {},
   "outputs": [],
   "source": [
    "runtimeRatingsQuery = \"\"\"...\"\"\"\n",
    "runtimeRatingsDf = run_sql(runtimeRatingsQuery)\n",
    "runtimeRatingsDf"
   ]
  },
  {
   "cell_type": "code",
   "execution_count": null,
   "metadata": {
    "deletable": false,
    "editable": false
   },
   "outputs": [],
   "source": [
    "ok.grade(\"q8\");"
   ]
  },
  {
   "cell_type": "markdown",
   "metadata": {},
   "source": [
    "If your SQL query is correct you should get some intesting plots below.  This might explain why directors keep going a particular direction with film lengths.  "
   ]
  },
  {
   "cell_type": "code",
   "execution_count": null,
   "metadata": {},
   "outputs": [],
   "source": [
    "runtimeRatingsDf.iplot(x=\"runtime_bin\", y=\"avg_rating\", asFigure=True)"
   ]
  },
  {
   "cell_type": "code",
   "execution_count": null,
   "metadata": {},
   "outputs": [],
   "source": [
    "runtimeRatingsDf.iplot(x=\"runtime_bin\", y=\"avg_num_votes\", asFigure=True)"
   ]
  },
  {
   "cell_type": "code",
   "execution_count": null,
   "metadata": {},
   "outputs": [],
   "source": [
    "runtimeRatingsDf.iplot(kind=\"bar\", x=\"runtime_bin\", y=\"total\", asFigure=True)"
   ]
  },
  {
   "cell_type": "markdown",
   "metadata": {
    "deletable": false,
    "editable": false
   },
   "source": [
    "---\n",
    "\n",
    "## Question 9\n",
    "\n",
    "\n",
    "Which **actors** and **actresses** have the highest average ratings across all the **movies** in which they star?  \n",
    "\n",
    "Construct a table consisting of the **actor's/actress' name**  (as `name`) and their **average_rating** (as `avg_rating`) computed by rescaling their individual performance ratings:\n",
    "\n",
    "$$\n",
    "\\frac{\\sum_m \\text{avg_rating}[m] * \\text{num_votes}[m]}{\\sum_m \\text{num_votes}[m]}\n",
    "$$\n",
    "\n",
    "Note that if an actor/actress has multiple `role` listings for a film then that film will have a bigger impact in the overall average (this is desired).\n",
    "\n",
    "Only consider ratings where there are **at least 1000** votes and only consider actors/actresses that have **at least 20 rated performances**. Present the actors/actresses with the top 10 `avg_rating` in descending order and break ties using the actor's/actress' name.\n",
    "\n",
    "\n",
    "The results should look something like this but without the `????`:\n",
    "<table border=\"1\" class=\"dataframe\">\n",
    "  <thead>\n",
    "    <tr style=\"text-align: right;\">\n",
    "      <th></th>\n",
    "      <th>name</th>\n",
    "      <th>avg_rating</th>\n",
    "    </tr>\n",
    "  </thead>\n",
    "  <tbody>\n",
    "    <tr>\n",
    "      <th>0</th>\n",
    "      <td>????</td>\n",
    "      <td>8.477808</td>\n",
    "    </tr>\n",
    "    <tr>\n",
    "      <th>1</th>\n",
    "      <td>????</td>\n",
    "      <td>8.410496</td>\n",
    "    </tr>\n",
    "    <tr>\n",
    "      <th>2</th>\n",
    "      <td>????</td>\n",
    "      <td>8.396275</td>\n",
    "    </tr>\n",
    "    <tr>\n",
    "      <th>3</th>\n",
    "      <td>????</td>\n",
    "      <td>8.365583</td>\n",
    "    </tr>\n",
    "    <tr>\n",
    "      <th>4</th>\n",
    "      <td>????</td>\n",
    "      <td>8.355513</td>\n",
    "    </tr>\n",
    "    <tr>\n",
    "      <th>5</th>\n",
    "      <td>????</td>\n",
    "      <td>8.352385</td>\n",
    "    </tr>\n",
    "    <tr>\n",
    "      <th>6</th>\n",
    "      <td>????</td>\n",
    "      <td>8.333354</td>\n",
    "    </tr>\n",
    "    <tr>\n",
    "      <th>7</th>\n",
    "      <td>????</td>\n",
    "      <td>8.330661</td>\n",
    "    </tr>\n",
    "    <tr>\n",
    "      <th>8</th>\n",
    "      <td>????</td>\n",
    "      <td>8.269803</td>\n",
    "    </tr>\n",
    "    <tr>\n",
    "      <th>9</th>\n",
    "      <td>????</td>\n",
    "      <td>8.265962</td>\n",
    "    </tr>\n",
    "  </tbody>\n",
    "</table>\n",
    "\n",
    "\n",
    "<!--\n",
    "BEGIN QUESTION\n",
    "name: q9\n",
    "manual: false\n",
    "points: 4\n",
    "-->"
   ]
  },
  {
   "cell_type": "code",
   "execution_count": null,
   "metadata": {},
   "outputs": [],
   "source": [
    "topRatedPerformerQuery = \"\"\"...\"\"\"\n",
    "topRatedPerformerDf = run_sql(topRatedPerformerQuery)\n",
    "topRatedPerformerDf"
   ]
  },
  {
   "cell_type": "code",
   "execution_count": null,
   "metadata": {
    "deletable": false,
    "editable": false
   },
   "outputs": [],
   "source": [
    "ok.grade(\"q9\");"
   ]
  },
  {
   "cell_type": "markdown",
   "metadata": {},
   "source": [
    "## THE END!"
   ]
  },
  {
   "cell_type": "markdown",
   "metadata": {
    "deletable": false,
    "editable": false
   },
   "source": [
    "# Submit\n",
    "Make sure you have run all cells in your notebook in order before running the cell below, so that all images/graphs appear in the output.\n",
    "**Please save before submitting!**"
   ]
  },
  {
   "cell_type": "code",
   "execution_count": null,
   "metadata": {
    "deletable": false,
    "editable": false
   },
   "outputs": [],
   "source": [
    "# Save your notebook first, then run this cell to submit.\n",
    "ok.submit()"
   ]
  }
 ],
 "metadata": {
  "kernelspec": {
   "display_name": "Python 3",
   "language": "python",
   "name": "python3"
  },
  "language_info": {
   "codemirror_mode": {
    "name": "ipython",
    "version": 3
   },
   "file_extension": ".py",
   "mimetype": "text/x-python",
   "name": "python",
   "nbconvert_exporter": "python",
   "pygments_lexer": "ipython3",
   "version": "3.6.1"
  }
 },
 "nbformat": 4,
 "nbformat_minor": 4
}
